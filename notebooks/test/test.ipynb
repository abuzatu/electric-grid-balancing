{
 "cells": [
  {
   "cell_type": "markdown",
   "id": "19b2d0d3",
   "metadata": {},
   "source": [
    "# Hello world of running with a module we built"
   ]
  },
  {
   "cell_type": "code",
   "execution_count": null,
   "id": "b581927b",
   "metadata": {},
   "outputs": [],
   "source": [
    "# python\n",
    "\n",
    "# our modules\n",
    "import configs.settings as settings\n",
    "import utils.sum\n",
    "\n",
    "# allow to use an updated module and use the change directly by refreshing the cell\n",
    "# without having to restart the entire notebook\n",
    "%load_ext autoreload\n",
    "%autoreload 2"
   ]
  },
  {
   "cell_type": "markdown",
   "id": "174eae12",
   "metadata": {},
   "source": [
    "# Test we can read the modules as configuration file"
   ]
  },
  {
   "cell_type": "code",
   "execution_count": null,
   "id": "70ab18cc",
   "metadata": {},
   "outputs": [],
   "source": [
    "settings.work_dir()"
   ]
  },
  {
   "cell_type": "code",
   "execution_count": null,
   "id": "950e7319",
   "metadata": {},
   "outputs": [],
   "source": [
    "settings.INPUT_SERVICE_URL"
   ]
  },
  {
   "cell_type": "markdown",
   "id": "cb023995",
   "metadata": {},
   "source": [
    "# Test we can run functions from modules we built"
   ]
  },
  {
   "cell_type": "code",
   "execution_count": null,
   "id": "2057d722",
   "metadata": {},
   "outputs": [],
   "source": [
    "utils.sum.my_sum(2.3, 4.5)"
   ]
  },
  {
   "cell_type": "code",
   "execution_count": null,
   "id": "933b6f7a",
   "metadata": {},
   "outputs": [],
   "source": [
    "utils.sum.my_sum_three(2.3, 4.5, 1.1)"
   ]
  },
  {
   "cell_type": "markdown",
   "id": "e54f76b3",
   "metadata": {},
   "source": [
    "# All done"
   ]
  },
  {
   "cell_type": "code",
   "execution_count": null,
   "id": "78f14312",
   "metadata": {},
   "outputs": [],
   "source": [
    "print(\"All done!\")"
   ]
  }
 ],
 "metadata": {
  "kernelspec": {
   "display_name": "Python 3 (ipykernel)",
   "language": "python",
   "name": "python3"
  },
  "language_info": {
   "codemirror_mode": {
    "name": "ipython",
    "version": 3
   },
   "file_extension": ".py",
   "mimetype": "text/x-python",
   "name": "python",
   "nbconvert_exporter": "python",
   "pygments_lexer": "ipython3",
   "version": "3.11.4"
  }
 },
 "nbformat": 4,
 "nbformat_minor": 5
}
